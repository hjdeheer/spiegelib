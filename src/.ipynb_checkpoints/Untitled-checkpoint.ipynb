{
 "cells": [
  {
   "cell_type": "code",
   "execution_count": 1,
   "id": "a84925ec",
   "metadata": {},
   "outputs": [],
   "source": [
    "import spiegelib as spgl"
   ]
  },
  {
   "cell_type": "code",
   "execution_count": 2,
   "id": "93c27106",
   "metadata": {},
   "outputs": [],
   "source": [
    "synth = spgl.synth.SynthVST(\"../vsts/dexed.vst3\",\n",
    "                                note_length_secs=1.0,\n",
    "                                render_length_secs=1.0)\n",
    "    "
   ]
  },
  {
   "cell_type": "code",
   "execution_count": null,
   "id": "416ae894",
   "metadata": {},
   "outputs": [],
   "source": []
  }
 ],
 "metadata": {
  "kernelspec": {
   "display_name": "spiegelib",
   "language": "python",
   "name": "spiegelib"
  },
  "language_info": {
   "codemirror_mode": {
    "name": "ipython",
    "version": 3
   },
   "file_extension": ".py",
   "mimetype": "text/x-python",
   "name": "python",
   "nbconvert_exporter": "python",
   "pygments_lexer": "ipython3",
   "version": "3.7.13"
  }
 },
 "nbformat": 4,
 "nbformat_minor": 5
}
